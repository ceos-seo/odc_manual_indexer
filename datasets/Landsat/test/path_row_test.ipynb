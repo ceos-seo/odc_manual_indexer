{
 "cells": [
  {
   "cell_type": "code",
   "execution_count": 1,
   "metadata": {},
   "outputs": [],
   "source": [
    "import geopandas as gpd\n",
    "import pandas as pd\n",
    "import numpy as np"
   ]
  },
  {
   "cell_type": "code",
   "execution_count": 2,
   "metadata": {},
   "outputs": [],
   "source": [
    "path_row_data = gpd.read_file('USGS_path_rows.geojson')"
   ]
  },
  {
   "cell_type": "code",
   "execution_count": 144,
   "metadata": {},
   "outputs": [],
   "source": [
    "def extract_path_rows(path_row_str):\n",
    "    path_str, row_str = path_row_str.split('_')\n",
    "    return path_str, row_str\n",
    "path_row_data['Path'], path_row_data['Row'] = \\\n",
    "    zip(*path_row_data['Name'].map(lambda path_row_str: extract_path_rows(path_row_str)))"
   ]
  },
  {
   "cell_type": "code",
   "execution_count": 40,
   "metadata": {},
   "outputs": [],
   "source": [
    "path_row_data['Path'] = path_row_nums['Path']\n",
    "path_row_data['Row'] = path_row_nums['Row']"
   ]
  },
  {
   "cell_type": "code",
   "execution_count": 140,
   "metadata": {},
   "outputs": [],
   "source": [
    "def get_min_max_x_y(geom):\n",
    "    x, y = geom.exterior.coords.xy\n",
    "    return min(x), max(x), min(y), max(y)\n",
    "path_row_data['min_x'], path_row_data['max_x'], \\\n",
    "path_row_data['min_y'], path_row_data['max_y'] = \\\n",
    "    zip(*path_row_data.geometry.map(lambda geom: get_min_max_x_y(geom)))"
   ]
  },
  {
   "cell_type": "code",
   "execution_count": 149,
   "metadata": {},
   "outputs": [],
   "source": [
    "def path_row_geojson_to_min_max_xy_fmt(USGS_path_rows_geojson_path):\n",
    "    path_row_data = gpd.read_file(USGS_path_rows_geojson_path)\n",
    "    \n",
    "    def extract_path_rows(path_row_str):\n",
    "        path_str, row_str = path_row_str.split('_')\n",
    "        return path_str, row_str\n",
    "    path_row_data['Path'], path_row_data['Row'] = \\\n",
    "        zip(*path_row_data['Name'].map(lambda path_row_str: extract_path_rows(path_row_str)))\n",
    "    \n",
    "    def get_min_max_x_y(geom):\n",
    "        x, y = geom.exterior.coords.xy\n",
    "        return min(x), max(x), min(y), max(y)\n",
    "    path_row_data['min_x'], path_row_data['max_x'], \\\n",
    "    path_row_data['min_y'], path_row_data['max_y'] = \\\n",
    "        zip(*path_row_data.geometry.map(lambda geom: get_min_max_x_y(geom)))\n",
    "    \n",
    "    return path_row_data[['Path', 'Row', 'min_x', 'max_x', 'min_y', 'max_y', 'geometry']]"
   ]
  },
  {
   "cell_type": "code",
   "execution_count": 158,
   "metadata": {},
   "outputs": [],
   "source": [
    "path_row_data = path_row_geojson_to_min_max_xy_fmt('USGS_path_rows.geojson')"
   ]
  },
  {
   "cell_type": "code",
   "execution_count": 180,
   "metadata": {},
   "outputs": [
    {
     "data": {
      "text/plain": [
       "array([['16', '122'],\n",
       "       ['15', '122'],\n",
       "       ['14', '122'],\n",
       "       ...,\n",
       "       ['122', '247'],\n",
       "       ['121', '247'],\n",
       "       ['120', '247']], dtype=object)"
      ]
     },
     "execution_count": 180,
     "metadata": {},
     "output_type": "execute_result"
    }
   ],
   "source": [
    "path_row_data[['Path', 'Row']].values\n",
    "\n",
    "# for path_row_record in path_row_data[['Path', 'Row']].iterrows():\n",
    "    "
   ]
  },
  {
   "cell_type": "code",
   "execution_count": 163,
   "metadata": {},
   "outputs": [],
   "source": [
    "# path_row_data[]\n",
    "# path_row_data.isnull().any(axis=1)"
   ]
  }
 ],
 "metadata": {
  "kernelspec": {
   "display_name": "Python 3",
   "language": "python",
   "name": "python3"
  },
  "language_info": {
   "codemirror_mode": {
    "name": "ipython",
    "version": 3
   },
   "file_extension": ".py",
   "mimetype": "text/x-python",
   "name": "python",
   "nbconvert_exporter": "python",
   "pygments_lexer": "ipython3",
   "version": "3.6.9"
  }
 },
 "nbformat": 4,
 "nbformat_minor": 4
}